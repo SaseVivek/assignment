{
 "cells": [
  {
   "cell_type": "code",
   "execution_count": 1,
   "id": "7d7a955c-605e-4820-afbf-bd092e7df0c5",
   "metadata": {},
   "outputs": [],
   "source": [
    "#Question no 1\n",
    "#Write a Python program to print your name and favourite colour on two separate lines."
   ]
  },
  {
   "cell_type": "code",
   "execution_count": 1,
   "id": "e00b9e2a-a45d-4950-a8b6-694aeb04462a",
   "metadata": {},
   "outputs": [
    {
     "name": "stdout",
     "output_type": "stream",
     "text": [
      "Vivek\n",
      "Purple\n"
     ]
    }
   ],
   "source": [
    "print(\"Vivek\")\n",
    "print(\"Purple\")"
   ]
  },
  {
   "cell_type": "code",
   "execution_count": 3,
   "id": "9a0776b5-c65a-48f1-af96-df4e862a69bb",
   "metadata": {},
   "outputs": [],
   "source": [
    "#Question no 2\n",
    "#Write a Python program that prints the result of adding 7 and 8."
   ]
  },
  {
   "cell_type": "code",
   "execution_count": 4,
   "id": "f7792b93-c556-4b74-b656-e78e0ab9669b",
   "metadata": {},
   "outputs": [
    {
     "name": "stdout",
     "output_type": "stream",
     "text": [
      "15\n"
     ]
    }
   ],
   "source": [
    "a = 7 + 8\n",
    "print(a)"
   ]
  },
  {
   "cell_type": "code",
   "execution_count": 5,
   "id": "eed7a8f9-0cc9-4451-bd6b-6c50535c78bd",
   "metadata": {},
   "outputs": [],
   "source": [
    "#Question no 3\n",
    "#Use the print function to display the following text exactly as it is:\n",
    "\n",
    "#Python is fun!\n",
    "#Let's learn together."
   ]
  },
  {
   "cell_type": "code",
   "execution_count": 8,
   "id": "d0976dd5-f14f-4b56-94d4-02a3eea2a3b6",
   "metadata": {},
   "outputs": [
    {
     "name": "stdout",
     "output_type": "stream",
     "text": [
      "python is fun!\n",
      "Let's learn together\n"
     ]
    }
   ],
   "source": [
    "print(\"python is fun!\\nLet's learn together\")"
   ]
  },
  {
   "cell_type": "code",
   "execution_count": 9,
   "id": "f77ea31c-ed45-49ed-9ad8-5449038cc9e5",
   "metadata": {},
   "outputs": [],
   "source": [
    "#Question no 4\n",
    "#Write a Python program to calculate and print the result of multiplying 6 by 9."
   ]
  },
  {
   "cell_type": "code",
   "execution_count": 10,
   "id": "87a3f2c0-72f1-4da1-a646-7322bd357d9c",
   "metadata": {},
   "outputs": [
    {
     "name": "stdout",
     "output_type": "stream",
     "text": [
      "54\n"
     ]
    }
   ],
   "source": [
    "a = 6*9\n",
    "print(a)"
   ]
  },
  {
   "cell_type": "code",
   "execution_count": 13,
   "id": "94f57ed6-09fa-4e27-ba0e-2286e1a6191f",
   "metadata": {},
   "outputs": [],
   "source": [
    "\n",
    "#Question no 5\n",
    " #Write a Python program that prints the result of adding 5  5 and multiplying 2 and 3 in a single line of code.\n",
    "\n",
    "  #Take the name A as input from the user and print \"Hello A\", where A is the name in input.\n",
    "\n",
    "  #You have x rupees in your savings. You google pay y rupees, print your bank balance\n",
    "\n",
    "  #Print the first five letters of the English alphabet i.e. A, B, C, D and E. one below each other\n",
    "\n",
    "  #Take two names A and B as input from the user, and print \"A says Hi to B\" (Without quotations), where A and B are the names in input."
   ]
  },
  {
   "cell_type": "code",
   "execution_count": 17,
   "id": "94d4d474-6b52-4b88-b25b-25b9f6d823ff",
   "metadata": {},
   "outputs": [
    {
     "name": "stdout",
     "output_type": "stream",
     "text": [
      "10 6\n"
     ]
    }
   ],
   "source": [
    "s=5+5\n",
    "h=2*3\n",
    "print(s,h)"
   ]
  },
  {
   "cell_type": "code",
   "execution_count": null,
   "id": "f88346da-f776-4ca9-8994-0c8e74601de1",
   "metadata": {},
   "outputs": [],
   "source": []
  }
 ],
 "metadata": {
  "kernelspec": {
   "display_name": "Python [conda env:base] *",
   "language": "python",
   "name": "conda-base-py"
  },
  "language_info": {
   "codemirror_mode": {
    "name": "ipython",
    "version": 3
   },
   "file_extension": ".py",
   "mimetype": "text/x-python",
   "name": "python",
   "nbconvert_exporter": "python",
   "pygments_lexer": "ipython3",
   "version": "3.12.7"
  }
 },
 "nbformat": 4,
 "nbformat_minor": 5
}
