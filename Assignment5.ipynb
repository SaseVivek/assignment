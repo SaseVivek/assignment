{
 "cells": [
  {
   "cell_type": "code",
   "execution_count": 2,
   "id": "9f4780bc-d616-4712-9ffa-8db515ec39ba",
   "metadata": {},
   "outputs": [
    {
     "name": "stdin",
     "output_type": "stream",
     "text": [
      "enter number- 10\n"
     ]
    },
    {
     "name": "stdout",
     "output_type": "stream",
     "text": [
      "10 is even number\n"
     ]
    }
   ],
   "source": [
    "#1-Odd or Even: Write a program that takes an integer input from the user and prints whether the number is odd or even.\n",
    "a = int(input(\"enter number-\"))\n",
    "while a % 2 == 0:\n",
    "    print(a, \"is even number\")\n",
    "    break\n",
    "else:\n",
    "    print(a, \"is odd number\")"
   ]
  },
  {
   "cell_type": "code",
   "execution_count": 3,
   "id": "688c7176-433b-4eb5-b0cd-fb7cbcb4f157",
   "metadata": {},
   "outputs": [
    {
     "name": "stdin",
     "output_type": "stream",
     "text": [
      "enter number- -2\n"
     ]
    },
    {
     "name": "stdout",
     "output_type": "stream",
     "text": [
      "-2 is negative\n"
     ]
    }
   ],
   "source": [
    "#2-Positive, Negative, or Zero: Create a program that checks if a number entered by the user is positive, negative, or zero and prints the result.\n",
    "\n",
    "num = int(input(\"enter number-\"))\n",
    "if num < 0:\n",
    "    print(num, \"is negative\")\n",
    "elif num > 0:\n",
    "    print(num, \"is positive\")\n",
    "else:\n",
    "    print(num, \"is zero\")"
   ]
  },
  {
   "cell_type": "code",
   "execution_count": 4,
   "id": "8b031171-4d21-49fe-8807-e3a2eaec7cf6",
   "metadata": {},
   "outputs": [
    {
     "name": "stdin",
     "output_type": "stream",
     "text": [
      "enter your marks- 88\n"
     ]
    },
    {
     "name": "stdout",
     "output_type": "stream",
     "text": [
      "B\n"
     ]
    }
   ],
   "source": [
    "#3-Grade Evaluation: Write a program that takes a student's score (0-100) and prints the corresponding letter grade (A, B, C, D, F).\n",
    "\n",
    "marks = int(input(\"enter your marks-\"))\n",
    "if 90 <= marks <= 100:\n",
    "    print(\"A\")\n",
    "elif 80 <= marks <= 89:\n",
    "    print(\"B\")\n",
    "elif 70 <= marks <= 79:\n",
    "    print(\"C\")\n",
    "elif 60 <= marks <= 69:\n",
    "    print(\"D\")\n",
    "else:\n",
    "    print(\"F\")"
   ]
  },
  {
   "cell_type": "code",
   "execution_count": 5,
   "id": "92962152-997b-4bf4-afbc-b27d7db9c001",
   "metadata": {},
   "outputs": [
    {
     "name": "stdin",
     "output_type": "stream",
     "text": [
      "enter your age- 21\n"
     ]
    },
    {
     "name": "stdout",
     "output_type": "stream",
     "text": [
      "eligible to vote\n"
     ]
    }
   ],
   "source": [
    "#4-Age Check: Develop a program that asks for a user's age and determines if they are eligible to vote (age 18 or older).\n",
    "age = int(input(\"enter your age-\"))\n",
    "while age >= 18:\n",
    "    print(\"eligible to vote\")\n",
    "    break\n",
    "else:\n",
    "    print(\"not eligible to vote\")"
   ]
  },
  {
   "cell_type": "code",
   "execution_count": 6,
   "id": "52730312-9449-481b-ae9f-e8aa36135667",
   "metadata": {},
   "outputs": [
    {
     "name": "stdin",
     "output_type": "stream",
     "text": [
      "enter temperature- 15\n"
     ]
    },
    {
     "name": "stdout",
     "output_type": "stream",
     "text": [
      "cold\n"
     ]
    }
   ],
   "source": [
    "#5-Temperature Check: Write a program that takes a temperature in Celsius and prints whether it is \"Freezing\",\"Cold\", \"Warm\", or\n",
    "#\"Hot\" based on predefined ranges.\n",
    "\n",
    "temp  = int(input(\"enter temperature-\"))\n",
    "if temp < 0:\n",
    "    print(\"freezing\")\n",
    "elif 1 <= temp <= 15:\n",
    "    print(\"cold\")\n",
    "elif 16 <= temp <= 30:\n",
    "    print(\"warm\")\n",
    "else:\n",
    "    print(\"hot\")"
   ]
  },
  {
   "cell_type": "code",
   "execution_count": 7,
   "id": "b29c21f2-0e9f-4692-b0f5-27fe777a6b40",
   "metadata": {},
   "outputs": [
    {
     "name": "stdin",
     "output_type": "stream",
     "text": [
      "enter number- 15\n"
     ]
    },
    {
     "name": "stdout",
     "output_type": "stream",
     "text": [
      "15 is divisible by 3 and 5\n"
     ]
    }
   ],
   "source": [
    "#6-Divisibility Check: Create a program that checks if a number is divisible by 3 and/or 5 and prints appropriate messages.\n",
    "\n",
    "num = int(input(\"enter number-\"))\n",
    "if num % 3 == 0 and num % 5 == 0:\n",
    "    print(num, \"is divisible by 3 and 5\")\n",
    "elif num % 3 == 0:\n",
    "    print(num, \"is divisible by 3\")\n",
    "elif num % 5 == 0:\n",
    "    print(num, \"is divisible by 5\")\n",
    "else:\n",
    "    print(num, \"is not divisible by 3and 5\")"
   ]
  },
  {
   "cell_type": "code",
   "execution_count": 8,
   "id": "5e5578f2-f96d-4164-9e69-a067bafd06f4",
   "metadata": {},
   "outputs": [
    {
     "name": "stdin",
     "output_type": "stream",
     "text": [
      "enter year- 2024\n"
     ]
    },
    {
     "name": "stdout",
     "output_type": "stream",
     "text": [
      "2024 is leap year\n"
     ]
    }
   ],
   "source": [
    "#7-Leap Year Checker: Write a program that determines if a given year is a leap year or not.\n",
    "\n",
    "year = int(input(\"enter year-\"))\n",
    "if (year % 4 == 0 and year % 100 != 0) or (year % 400 == 0):\n",
    "    print(year, \"is leap year\")\n",
    "else:\n",
    "    print(year, \"is not leap year\")"
   ]
  },
  {
   "cell_type": "code",
   "execution_count": null,
   "id": "821bb8b4-90c2-49f7-b8d5-1746127566a8",
   "metadata": {},
   "outputs": [],
   "source": [
    "#8-Simple Calculator: Create a basic calculator that takes two numbers and an operator (+, -, *, /) from the user and performs the operation,\n",
    "#handling division by zero appropriately.\n",
    "num1 = int(input(\"enter number1-\"))\n",
    "opp = input(\"enter operator-\")\n",
    "num2 = int(input(\"enter number2-\"))\n",
    "\n",
    "if opp == \"+\":\n",
    "    print(num1 + num2)\n",
    "elif opp == \"-\":\n",
    "    print(num1 - num2)\n",
    "elif opp == \"*\":\n",
    "    print(num1 * num2)\n",
    "elif opp == \"/\":\n",
    "    if num2 != 0:\n",
    "        print(num1 / num2)\n",
    "    else:\n",
    "        print(\"division by zero is not allowed\")"
   ]
  },
  {
   "cell_type": "code",
   "execution_count": 10,
   "id": "70b5d0d2-a81f-46ff-9150-70a43b120b2f",
   "metadata": {},
   "outputs": [],
   "source": [
    "#Medium Level:"
   ]
  },
  {
   "cell_type": "code",
   "execution_count": null,
   "id": "f90116bb-b814-4349-8989-f4ba10eede00",
   "metadata": {},
   "outputs": [],
   "source": [
    "#1-BMI Calculator: Write a program that calculates the Body Mass Index (BMI) based on user-provided weight\n",
    "#and height, then categorizes it as Underweight, Normal weight, Overweight, or Obesity.\n",
    "weight = int(input(\"enter your weight-\"))\n",
    "height = float(input(\"enter your height-\"))\n",
    "height_in_meter = (height * 0.3048)\n",
    "bmi = (weight/height_in_meter**2)\n",
    "BMI = round(BMI,1)\n",
    "print(\"your BMI is\",BMI)\n",
    "if BMI < 18.5:\n",
    "    print(\"underweight\")\n",
    "elif 18.5 <= BMI <= 24.9:\n",
    "    print(\"normal weight\")\n",
    "elif 24.9 <= BMI <= 29.9:\n",
    "    print(\"overweight\")\n",
    "else:\n",
    "    print(\"obesity\")"
   ]
  },
  {
   "cell_type": "code",
   "execution_count": null,
   "id": "47791f86-9d85-421b-b670-9dae43e63f08",
   "metadata": {},
   "outputs": [],
   "source": [
    "#2- Discount Calculator: Create a program that calculates the final price of an item based on its original price and\n",
    "#applies discounts based on predefined conditions (e.g., 10% off for prices over $100).\n",
    "price = int(input(\"enter price-\"))\n",
    "discount = 0.1\n",
    "discount_price = price * discount\n",
    "if price >= 100:\n",
    "    print(\"price after 10% discount\", discount_price,\"--\", price - discount_price)\n",
    "else:\n",
    "    print(\"no discount\")"
   ]
  },
  {
   "cell_type": "code",
   "execution_count": null,
   "id": "55a7a98f-6241-4348-8588-ce915248058d",
   "metadata": {},
   "outputs": [],
   "source": [
    "#3-Grade Classification: Extend the grade evaluation problem to classify grades into categories (e.g., \"Excellent\",\n",
    "#\"Good\", \"Average\", \"Poor\") based on score ranges.\n",
    "marks = int(input(\"enter your marks-\"))\n",
    "if 90 <= marks <= 100:\n",
    "    print(\"Grade - A\")\n",
    "    print(\"Remark - excellent\")\n",
    "elif 80 <= marks <= 89:\n",
    "    print(\"Grade - B\")\n",
    "    print(\"Remark - good\")\n",
    "elif 70 <= marks <= 79:\n",
    "    print(\"Grade - C\")\n",
    "    print(\"Remark - average\")\n",
    "elif 60 <= marks <= 69:\n",
    "    print(\"Grade - D\")\n",
    "    print(\"Remark - poor\")\n",
    "else:\n",
    "    print(\"Grade - F\")\n",
    "    print(\"Remark - fail\")"
   ]
  },
  {
   "cell_type": "code",
   "execution_count": null,
   "id": "6b6fc279-7180-4434-afa6-e955e79f51f1",
   "metadata": {},
   "outputs": [],
   "source": [
    "#4-Password Strength Checker: Write a program that checks if a password is strong based on conditions such\n",
    "#as length, presence of digits, uppercase letters, and special characters.\n",
    "password = input(\"enter your password-\")\n",
    "len_condition = len(password) >= 8\n",
    "dg_condition = any(char >= \"0\" and char <= \"9\" for char in password)\n",
    "up_condition = any(char >= \"A\" and char <= \"Z\" for char in password)\n",
    "sp_condition = any(char == \"!\" or \"@\" or \"$\" or \"%\" or \"^\" or \"&\" or \"*\" for char in password)\n",
    "if len_condition and dg_condition and up_condition and sp_condition:\n",
    "    print(\"strong password\")\n",
    "else:\n",
    "    print(\"weak password\")"
   ]
  },
  {
   "cell_type": "code",
   "execution_count": null,
   "id": "fc9f817e-7f2b-487f-bd82-7a233e8933e3",
   "metadata": {},
   "outputs": [],
   "source": [
    "#5-Traffic Light Simulation: Create a program that simulates traffic light behavior where it takes input for the light\n",
    "#color (red, yellow, green) and outputs what vehicles should do.\n",
    "t_color = input(\"enter color-\")\n",
    "if t_color == \"red\":\n",
    "    print(\"stop\")\n",
    "elif t_color == \"yellow\":\n",
    "    print(\"preparation to stop\")\n",
    "elif t_color == \"green\":\n",
    "    print(\"go\")\n",
    "else:\n",
    "    print(\"wrong color\")"
   ]
  },
  {
   "cell_type": "code",
   "execution_count": null,
   "id": "4a506ede-3245-4b94-b00c-fcbefb7b3c09",
   "metadata": {},
   "outputs": [],
   "source": [
    "#6-Simple Interest Calculator: Develop a program that calculates simple interest given principal amount, rate of\n",
    "#interest, and time period while checking for valid input values.\n",
    "p_amount = float(input(\"enter principal amount-\"))\n",
    "r_intrest = float(input(\"enter rate of intrest in %-\"))\n",
    "t_period = float(input(\"enter time period in years-\"))\n",
    "simple_intrest = (p_amount * r_intrest * t_period)/100\n",
    "if p_amount > r_intrest > t_period:\n",
    "    print(\"simple intrest is-\", simple_intrest)\n",
    "else:\n",
    "    print(\"invalid input\")"
   ]
  },
  {
   "cell_type": "code",
   "execution_count": null,
   "id": "68fa3ef9-f571-4068-8a59-29c0eecf12cb",
   "metadata": {},
   "outputs": [],
   "source": [
    "#7-Number Range Checker: Write a program that checks if an input number falls within a specified range (e.g., 1\n",
    "#to 100) and prints different messages based on where it falls.\n",
    "num = int(input(\"enter number-\"))\n",
    "if num >= 1 and num <= 100:\n",
    "    print(num, \"is in range of 1-100\")\n",
    "else:\n",
    "    print(num, \"is not in range of 1-100\")"
   ]
  },
  {
   "cell_type": "code",
   "execution_count": null,
   "id": "7a861f27-9ea5-4c85-8efe-21f2cd295f2c",
   "metadata": {},
   "outputs": [],
   "source": [
    "#8-Even Number Counter: Create a program that counts how many even numbers are in a list of user-inputted\n",
    "#numbers until the user enters -1 to stop.\n",
    "count = 0\n",
    "while True:\n",
    "    num = int(input(\"enter number-\"))\n",
    "    if num % 2 == 0:\n",
    "        print(num, \"is even number\")\n",
    "        count += 1\n",
    "    elif num == -1:\n",
    "        print(\"total number of even inputs\", count)\n",
    "        break\n",
    "    else:\n",
    "        print(\"number is odd\")"
   ]
  },
  {
   "cell_type": "code",
   "execution_count": null,
   "id": "bb45adee-3adc-4872-9cb9-cf92a2a73bfd",
   "metadata": {},
   "outputs": [],
   "source": [
    "#9-Rock-Paper-Scissors Game: Implement a simple rock-paper-scissors game where the user plays against the\n",
    "#computer, determining the winner based on inputs.\n",
    "user = input(\"user 1 2 3 go-\")\n",
    "comp = input(\"comp 1 2 3 go-\")\n",
    "if user == comp:\n",
    "    print(\"repeat\")\n",
    "elif (user == \"paper\"  and comp == \"rock\") or (user == \"rock\" and comp == \"scissors\") or (user == \"scissors\" and comp == \"paper\"):\n",
    "    print(\"user wins\")\n",
    "else:\n",
    "    print(\"comp wins\")"
   ]
  },
  {
   "cell_type": "code",
   "execution_count": null,
   "id": "4a5a6f9e-142e-4c73-8fec-bc3a395f8639",
   "metadata": {},
   "outputs": [],
   "source": [
    "#10-Month Days Checker: Write a program that asks for a month number (1-12) and returns how many days are in\n",
    "#that month, considering leap years for February.\n",
    "year = int(input(\"enter year-\"))\n",
    "month = int(input(\"enter month number-\"))\n",
    "if month in [1, 3, 5, 7, 8, 10, 12]:\n",
    "    print(month, \"has 31 days\")\n",
    "elif month in [4, 6, 9, 11]:\n",
    "    print(month, \"has 30 days\")\n",
    "elif (year % 4 == 0 and year % 100 != 0) or year % 400 == 0: \n",
    "    print(year, \"is leap year therefor\", month, \"has 29 days\")\n",
    "else:\n",
    "    print(year, \"is not leap year therefor\", month, \"has 28 days\")"
   ]
  },
  {
   "cell_type": "code",
   "execution_count": null,
   "id": "3ed8edeb-7886-45b4-baee-a5b348291f81",
   "metadata": {},
   "outputs": [],
   "source": [
    "#11-Grade Point Average (GPA) Calculator: Create a program that calculates GPA based on letter grades entered\n",
    "#by the user and converts them into grade points using standard values.\n",
    "grades_input = input(\"Enter letter grades separated by spaces (A B C D F): \")\n",
    "grades_list = grades_input.split()\n",
    "grade_points_mapping = {'A': 4.0, 'B': 3.0, 'C': 2.0, 'D': 1.0, 'F': 0.0}\n",
    "total_points = sum(grade_points_mapping[grade] for grade in grades_list if grade in grade_points_mapping)\n",
    "gpa = total_points / len(grades_list)\n",
    "print(f\"Your GPA is: {gpa:.2f}\")"
   ]
  },
  {
   "cell_type": "code",
   "execution_count": null,
   "id": "a3f22698-db4b-4991-b421-55fd88df6c87",
   "metadata": {},
   "outputs": [],
   "source": [
    "#12-Develop a voting system where users can vote for one of three candidates; ensure\n",
    "#each user can only vote once by checking against previous votes stored in a list.\n",
    "votes = []\n",
    "while True:\n",
    "    vote = input(\"Vote for candidate A, B or C (-1 to stop): \").upper()\n",
    "    if vote == '-1':\n",
    "        break\n",
    "    if vote in ['A', 'B', 'C']:\n",
    "        votes.append(vote)\n",
    "        print(f\"Vote recorded for candidate {vote}.\")\n",
    "    else:\n",
    "        print(\"Invalid vote! Please vote for A, B or C.\")\n",
    "# Count votes\n",
    "vote_count_A = votes.count('A')\n",
    "vote_count_B = votes.count('B')\n",
    "vote_count_C = votes.count('C')\n",
    "print(\"Vote of A\",vote_count_A)\n",
    "print(\"Vote of B\",vote_count_B)\n",
    "print(\"Vote of C\",vote_count_C)"
   ]
  },
  {
   "cell_type": "code",
   "execution_count": null,
   "id": "8316cd07-920d-487a-ade1-4e58ecff852f",
   "metadata": {},
   "outputs": [],
   "source": []
  }
 ],
 "metadata": {
  "kernelspec": {
   "display_name": "Python [conda env:base] *",
   "language": "python",
   "name": "conda-base-py"
  },
  "language_info": {
   "codemirror_mode": {
    "name": "ipython",
    "version": 3
   },
   "file_extension": ".py",
   "mimetype": "text/x-python",
   "name": "python",
   "nbconvert_exporter": "python",
   "pygments_lexer": "ipython3",
   "version": "3.12.7"
  }
 },
 "nbformat": 4,
 "nbformat_minor": 5
}
