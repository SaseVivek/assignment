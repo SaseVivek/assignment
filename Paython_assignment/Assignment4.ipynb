{
 "cells": [
  {
   "cell_type": "code",
   "execution_count": 1,
   "id": "165d9e41-85e3-4624-977f-1f8a1c384bd6",
   "metadata": {},
   "outputs": [],
   "source": [
    "#Question_1\n",
    " #Write a Python program that checks if a number entered by the user is even or odd.\n",
    " #Print \"Even\" if the number is even and \"Odd\" if it is odd."
   ]
  },
  {
   "cell_type": "code",
   "execution_count": 2,
   "id": "f429c3c4-ebff-4c0d-8428-1da653243a4c",
   "metadata": {},
   "outputs": [
    {
     "name": "stdin",
     "output_type": "stream",
     "text": [
      "ENTER THE NUMBER 4\n"
     ]
    },
    {
     "name": "stdout",
     "output_type": "stream",
     "text": [
      "NUMBER ENTERED IS EVEN NUMBER\n"
     ]
    }
   ],
   "source": [
    "num = int(input(\"ENTER THE NUMBER\"))\n",
    "\n",
    "if num%2 == 0:\n",
    "    print(\"NUMBER ENTERED IS EVEN NUMBER\")\n",
    "elif num%num == 0:\n",
    "    print(\"NUMBER ENTERED IS ODD NUMBER\")\n",
    "else:\n",
    "    print(\"NULL\")"
   ]
  },
  {
   "cell_type": "code",
   "execution_count": 3,
   "id": "f6e795e3-b559-4076-a856-7376abd303bc",
   "metadata": {},
   "outputs": [],
   "source": [
    "#Question_2\n",
    " #Create a program that prompts the user for their age and prints whether they are a child 0-12, teenager 13-19, or adult (20 and above)."
   ]
  },
  {
   "cell_type": "code",
   "execution_count": 4,
   "id": "464ca3df-cb4a-43fb-8f8d-a74bee423d17",
   "metadata": {},
   "outputs": [
    {
     "name": "stdin",
     "output_type": "stream",
     "text": [
      "ENTER YOUR AGE 18\n"
     ]
    },
    {
     "name": "stdout",
     "output_type": "stream",
     "text": [
      "THE PERSON IS A TEENAGER\n"
     ]
    }
   ],
   "source": [
    "age = int(input(\"ENTER YOUR AGE\"))\n",
    "\n",
    "if age <= 12:\n",
    "    print(\"THE PERSON IS A CHILD\")\n",
    "elif age >=13 and age <=19:\n",
    "    print(\"THE PERSON IS A TEENAGER\")\n",
    "else:\n",
    "     print(\"THE PERSON IS A ADULT\")"
   ]
  },
  {
   "cell_type": "code",
   "execution_count": 5,
   "id": "33d0c847-cb2f-42ca-9d4e-f0dc6f2db6a0",
   "metadata": {},
   "outputs": [],
   "source": [
    "#Question_3\n",
    " #Write a program that takes two numbers as input from the user and prints which number is larger.\n",
    " #If both numbers are equal, print \"Both numbers are equal.\""
   ]
  },
  {
   "cell_type": "code",
   "execution_count": 6,
   "id": "ee1bc308-0ecb-49ec-94d8-cb75e4403c7d",
   "metadata": {},
   "outputs": [
    {
     "name": "stdin",
     "output_type": "stream",
     "text": [
      "ENTER FIRST NUMBER 2\n",
      "ENTER SECOND NUMBER 3\n"
     ]
    },
    {
     "name": "stdout",
     "output_type": "stream",
     "text": [
      "3 IS LARGER NUMBER\n"
     ]
    }
   ],
   "source": [
    "num1 = int(input(\"ENTER FIRST NUMBER\"))\n",
    "num2 = int(input(\"ENTER SECOND NUMBER\"))\n",
    "\n",
    "if num1>num2:\n",
    "    print(f\"{num1} IS LARGER NUMBER\")\n",
    "elif num2>num1:\n",
    "    print(f\"{num2} IS LARGER NUMBER\")\n",
    "else:\n",
    "    print(\"BOTH NUMBERS ARE EQUAL\")"
   ]
  },
  {
   "cell_type": "code",
   "execution_count": 7,
   "id": "0b55bae5-cf4c-4763-8bb5-cf78c565cb2c",
   "metadata": {},
   "outputs": [],
   "source": [
    "#Question_4\n",
    " #Create a program that checks if a user-entered password matches the string \"securePassword\".\n",
    " #Print \"Access Granted\" if it matches, otherwise print \"Access Denied.\""
   ]
  },
  {
   "cell_type": "code",
   "execution_count": 8,
   "id": "0d34943b-0191-42d2-89e6-57d13fac7768",
   "metadata": {},
   "outputs": [
    {
     "name": "stdin",
     "output_type": "stream",
     "text": [
      "ENTER YOUR PASSWORD securePassword\n"
     ]
    },
    {
     "name": "stdout",
     "output_type": "stream",
     "text": [
      "ACCESS GRANTED\n"
     ]
    }
   ],
   "source": [
    "num1 = \"securePassword\"\n",
    "\n",
    "num2 = input(\"ENTER YOUR PASSWORD\")\n",
    "\n",
    "if num2 == num1 :\n",
    "    print(\"ACCESS GRANTED\")\n",
    "else:\n",
    "    print(\"ACCESS DENIED\")"
   ]
  },
  {
   "cell_type": "code",
   "execution_count": null,
   "id": "7c684ebd-0b4a-41b7-b5b4-44ed31e2679d",
   "metadata": {},
   "outputs": [],
   "source": [
    "'''\n",
    "Question_5\n",
    " Write a program that takes a score from the user (0-100) and prints the \n",
    " corresponding grade:\n",
    " A for 90-100\n",
    " B for 80-89\n",
    " C for 70-79\n",
    " D for 60-69\n",
    " F for below 60 '''"
   ]
  },
  {
   "cell_type": "code",
   "execution_count": 9,
   "id": "8a97c229-676d-4381-adac-9a9b324a901f",
   "metadata": {},
   "outputs": [
    {
     "name": "stdin",
     "output_type": "stream",
     "text": [
      "ENTER SCORE 50\n"
     ]
    },
    {
     "name": "stdout",
     "output_type": "stream",
     "text": [
      "f\n"
     ]
    }
   ],
   "source": [
    "num1 = int(input(\"ENTER SCORE\"))\n",
    "\n",
    "if num1>90 and num1<100:\n",
    "    print(\"A\")\n",
    "elif num1>80 and num1<89:\n",
    "    print(\"B\")\n",
    "elif num1>70 and num1<79:\n",
    "    print(\"C\")\n",
    "elif num1>60 and num1<69:\n",
    "    print(\"D\")\n",
    "else:\n",
    "    print(\"f\")"
   ]
  },
  {
   "cell_type": "code",
   "execution_count": 10,
   "id": "d5218ca0-07af-4f64-b0b8-008660765a94",
   "metadata": {},
   "outputs": [],
   "source": [
    "#Question_6\n",
    " #Create a program that asks the user for a number and checks if it is positive, negative, or zero.\n",
    " #Print the corresponding message."
   ]
  },
  {
   "cell_type": "code",
   "execution_count": 11,
   "id": "bc786318-38f3-4f4c-9e70-f61fd0271fda",
   "metadata": {},
   "outputs": [
    {
     "name": "stdin",
     "output_type": "stream",
     "text": [
      "ENTER THE NUMBER -2\n"
     ]
    },
    {
     "name": "stdout",
     "output_type": "stream",
     "text": [
      "THE NUMBER IS NEGATIVE.\n"
     ]
    }
   ],
   "source": [
    "num = int(input(\"ENTER THE NUMBER\"))\n",
    "\n",
    "if num > 0:\n",
    "    print(\"THE NUMBER IS POSITIVE.\")\n",
    "elif num < 0:\n",
    "    print(\"THE NUMBER IS NEGATIVE.\")\n",
    "else:\n",
    "    print(\"THE NUMBER IS ZERO.\")"
   ]
  },
  {
   "cell_type": "code",
   "execution_count": 12,
   "id": "64530e96-737e-41f9-a244-4f6a689621fe",
   "metadata": {},
   "outputs": [],
   "source": [
    "#Question_7\n",
    " #Write a program that takes three numbers from the user and determines the \n",
    " #largest of the three. Print the largest number."
   ]
  },
  {
   "cell_type": "code",
   "execution_count": 13,
   "id": "1e658e08-1d99-4886-95ff-626effbdb44a",
   "metadata": {},
   "outputs": [
    {
     "name": "stdin",
     "output_type": "stream",
     "text": [
      "ENTER FIRST NUMBER 2\n",
      "ENTER SECOND NUMBER 3\n",
      "ENTER THIRD NUMBER 5\n"
     ]
    },
    {
     "name": "stdout",
     "output_type": "stream",
     "text": [
      "THE LARGEST NUMBER IS: 5\n"
     ]
    }
   ],
   "source": [
    "num1 = int(input(\"ENTER FIRST NUMBER\"))\n",
    "num2 = int(input(\"ENTER SECOND NUMBER\"))\n",
    "num3 = int(input(\"ENTER THIRD NUMBER\"))\n",
    "\n",
    "if num1 >= num2 and num1 >= num3:\n",
    "    largest = num1\n",
    "elif num2 >= num1 and num2 >= num3:\n",
    "    largest = num2\n",
    "else:\n",
    "    largest = num3\n",
    "\n",
    "print(f\"THE LARGEST NUMBER IS: {largest}\")\n",
    "\n"
   ]
  },
  {
   "cell_type": "code",
   "execution_count": 14,
   "id": "763fb6b2-368c-4f77-91c9-8aa073c57338",
   "metadata": {},
   "outputs": [],
   "source": [
    "#Question_8\n",
    " #Create a program that checks if a user-entered character is a vowel (a, e, i, o, u) or a consonant.\n",
    " #Print the corresponding message."
   ]
  },
  {
   "cell_type": "code",
   "execution_count": 15,
   "id": "3b071341-6d56-4e68-bcb7-c7ad3e8af7ec",
   "metadata": {},
   "outputs": [
    {
     "name": "stdin",
     "output_type": "stream",
     "text": [
      "ENTER THE CHARECTER:  e\n"
     ]
    },
    {
     "name": "stdout",
     "output_type": "stream",
     "text": [
      "THE CHARECTER IS A VOWEL.\n"
     ]
    }
   ],
   "source": [
    "char = input(\"ENTER THE CHARECTER: \").lower()\n",
    "\n",
    "if char in ('a', 'e', 'i', 'o', 'u'):\n",
    "    print(\"THE CHARECTER IS A VOWEL.\")\n",
    "elif char.isalpha():\n",
    "    print(\"THE CHARECTER IS A CONSONANT.\")\n",
    "else:\n",
    "    print(\"INVALID INPUT , ENTER THE CHARECTER.\")"
   ]
  },
  {
   "cell_type": "code",
   "execution_count": 16,
   "id": "f4c9217c-4707-41cb-9a23-0e79f7a63981",
   "metadata": {},
   "outputs": [],
   "source": [
    "#Question_9\n",
    " #Write a program that checks if a given year is a leap year.\n",
    " #A year is a leap year if it is divisible by 4, except for years that are divisible by 100 but not divisible by 400."
   ]
  },
  {
   "cell_type": "code",
   "execution_count": 17,
   "id": "03721ca3-8570-4f1c-b7e0-65caaf837b81",
   "metadata": {},
   "outputs": [
    {
     "name": "stdin",
     "output_type": "stream",
     "text": [
      "ENTER THE YEAR:  2024\n"
     ]
    },
    {
     "name": "stdout",
     "output_type": "stream",
     "text": [
      "2024 IS THE LEAP YEAR.\n"
     ]
    }
   ],
   "source": [
    "year = int(input(\"ENTER THE YEAR: \"))\n",
    "\n",
    "if (year % 4 == 0 and year % 100 != 0) or (year % 400 == 0):\n",
    "    print(f\"{year} IS THE LEAP YEAR.\")\n",
    "else:\n",
    "    print(f\"{year} IS NOT A LEAP YEAR.\")"
   ]
  },
  {
   "cell_type": "code",
   "execution_count": 18,
   "id": "60a94d42-a53c-4d88-9654-20e4edb561fa",
   "metadata": {},
   "outputs": [],
   "source": [
    "#Question_10\n",
    " #Create a program that prompts the user for a temperature in Celsius and converts it to Fahrenheit.\n",
    " #If the converted temperature is greater than 100°F, print \"It's boiling!\" Otherwise, print \"It's not boiling yet.\""
   ]
  },
  {
   "cell_type": "code",
   "execution_count": 19,
   "id": "efb1005d-0718-49b6-9d5f-41e549e47d85",
   "metadata": {},
   "outputs": [
    {
     "name": "stdin",
     "output_type": "stream",
     "text": [
      "ENTER THE TEMPERATURE IN CELSIUS:  34\n"
     ]
    },
    {
     "name": "stdout",
     "output_type": "stream",
     "text": [
      "THE EQUIVALENT TEMPERATURE IN FAHRENHEIT IS: 93.20°F\n",
      "It's not boiling yet.\n"
     ]
    }
   ],
   "source": [
    "celsius = float(input(\"ENTER THE TEMPERATURE IN CELSIUS: \"))\n",
    "\n",
    "fahrenheit = (celsius * 9/5) + 32\n",
    "\n",
    "print(f\"THE EQUIVALENT TEMPERATURE IN FAHRENHEIT IS: {fahrenheit:.2f}°F\")\n",
    "\n",
    "if fahrenheit > 100:\n",
    "    print(\"It's boiling!\")\n",
    "else:\n",
    "    print(\"It's not boiling yet.\")\n"
   ]
  },
  {
   "cell_type": "code",
   "execution_count": null,
   "id": "43734450-1e6d-448b-be5c-e7effbe5cae2",
   "metadata": {},
   "outputs": [],
   "source": []
  }
 ],
 "metadata": {
  "kernelspec": {
   "display_name": "Python [conda env:base] *",
   "language": "python",
   "name": "conda-base-py"
  },
  "language_info": {
   "codemirror_mode": {
    "name": "ipython",
    "version": 3
   },
   "file_extension": ".py",
   "mimetype": "text/x-python",
   "name": "python",
   "nbconvert_exporter": "python",
   "pygments_lexer": "ipython3",
   "version": "3.12.7"
  }
 },
 "nbformat": 4,
 "nbformat_minor": 5
}
