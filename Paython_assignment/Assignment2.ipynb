{
 "cells": [
  {
   "cell_type": "code",
   "execution_count": 1,
   "id": "2323f56f-0ec0-4c2f-9596-8a7641585d41",
   "metadata": {},
   "outputs": [],
   "source": [
    "#Question_1\n",
    " #Create a variable age and assign it the value 25 .\n",
    " #Then print the value of age along with its data type using the type() function."
   ]
  },
  {
   "cell_type": "code",
   "execution_count": 4,
   "id": "72048c4e-f96d-4548-aabf-84c7aec9fdc3",
   "metadata": {},
   "outputs": [
    {
     "name": "stdout",
     "output_type": "stream",
     "text": [
      "25\n"
     ]
    },
    {
     "data": {
      "text/plain": [
       "int"
      ]
     },
     "execution_count": 4,
     "metadata": {},
     "output_type": "execute_result"
    }
   ],
   "source": [
    "age = 25\n",
    "print(age)\n",
    "type(age)"
   ]
  },
  {
   "cell_type": "code",
   "execution_count": 5,
   "id": "6f31cd57-8de5-4984-a36a-93679b7f70fe",
   "metadata": {},
   "outputs": [],
   "source": [
    "#Question_2\n",
    " #Assign the number 12.5 to a variable data type. Then assign the value price .\n",
    " #Print both the variable and its 12 to the same variable and print its data type again. What do you observe?"
   ]
  },
  {
   "cell_type": "code",
   "execution_count": 6,
   "id": "f72f0ad1-33d9-419d-ad4e-34a412530b60",
   "metadata": {},
   "outputs": [
    {
     "name": "stdout",
     "output_type": "stream",
     "text": [
      "12.5\n",
      "12\n"
     ]
    },
    {
     "data": {
      "text/plain": [
       "int"
      ]
     },
     "execution_count": 6,
     "metadata": {},
     "output_type": "execute_result"
    }
   ],
   "source": [
    "vp=12.5\n",
    "print(vp)\n",
    "type(vp)\n",
    "vp=12\n",
    "print(vp)\n",
    "type(vp)"
   ]
  },
  {
   "cell_type": "code",
   "execution_count": 7,
   "id": "0fce011f-f86e-44e9-9952-ff85a93d933e",
   "metadata": {},
   "outputs": [],
   "source": [
    "#Question_3\n",
    " #Create a variable is_raining and set it to True . Print the value of the variable along with its type.\n",
    " #Then set is_raining to False and print the new value and type."
   ]
  },
  {
   "cell_type": "code",
   "execution_count": 8,
   "id": "728be0a8-e43a-4c65-a16c-c38f96df320c",
   "metadata": {},
   "outputs": [
    {
     "name": "stdout",
     "output_type": "stream",
     "text": [
      "True\n",
      "False\n"
     ]
    },
    {
     "data": {
      "text/plain": [
       "bool"
      ]
     },
     "execution_count": 8,
     "metadata": {},
     "output_type": "execute_result"
    }
   ],
   "source": [
    "is_raining = True\n",
    "print(is_raining)\n",
    "type(is_raining)\n",
    "\n",
    "is_raining = False\n",
    "print(is_raining)\n",
    "type(is_raining)"
   ]
  },
  {
   "cell_type": "code",
   "execution_count": 9,
   "id": "dffe8e3a-40ef-449d-a28b-26a562146e4a",
   "metadata": {},
   "outputs": [],
   "source": [
    "#Question_4\n",
    " #Create a variable my_name and store your full name in it as a string.\n",
    " #Then print the value of my_name using single quotes "
   ]
  },
  {
   "cell_type": "code",
   "execution_count": 1,
   "id": "8e406e11-d581-47ba-ac89-a932ec209fc3",
   "metadata": {},
   "outputs": [
    {
     "name": "stdout",
     "output_type": "stream",
     "text": [
      "Vivek Dattatrya Sase\n"
     ]
    }
   ],
   "source": [
    "my_name = (\"Vivek Dattatrya Sase\")\n",
    "print(f\"{my_name}\")"
   ]
  },
  {
   "cell_type": "code",
   "execution_count": 3,
   "id": "3662285b-9ff7-41be-ae6e-9cbe6fde5b7a",
   "metadata": {},
   "outputs": [],
   "source": [
    "#Question_5\n",
    " #Write a Python program that asks the user for their name and age using the input() function.\n",
    " #Store the inputs in variables and print a sentence like \"Hello, [Name]! You are [Age] years old.\" Ensure you cast the age to an integer."
   ]
  },
  {
   "cell_type": "code",
   "execution_count": 5,
   "id": "e97c8d9e-7ef3-4c64-b0d3-91753138f09c",
   "metadata": {},
   "outputs": [
    {
     "name": "stdin",
     "output_type": "stream",
     "text": [
      "enter your name Vivek Sase\n",
      "enter your age 21\n"
     ]
    },
    {
     "name": "stdout",
     "output_type": "stream",
     "text": [
      "Hello, Vivek Sase! You are 21 years old\n"
     ]
    }
   ],
   "source": [
    "n = input(\"enter your name\")\n",
    "m = int(input(\"enter your age\"))\n",
    "\n",
    "print(f\"Hello, {n}! You are {m} years old\")"
   ]
  },
  {
   "cell_type": "code",
   "execution_count": 16,
   "id": "744ddfa3-de68-47d3-b64b-055e3d2eb998",
   "metadata": {},
   "outputs": [],
   "source": [
    "#Question_6\n",
    " #Create two variables x and y and assign them the values 10 and 3.5 , respectively.\n",
    " #Print their values and types. Then, create a new variable sum_xy and store the sum of x and y. Print the result and its type."
   ]
  },
  {
   "cell_type": "code",
   "execution_count": 19,
   "id": "a5a66f9b-4baa-4fe3-8c73-58605024601d",
   "metadata": {},
   "outputs": [
    {
     "name": "stdout",
     "output_type": "stream",
     "text": [
      "10 <class 'int'>\n",
      "3.5 <class 'float'>\n",
      "13.5 <class 'float'>\n"
     ]
    }
   ],
   "source": [
    "x = 10\n",
    "y = 3.5\n",
    "print(x,type(x))\n",
    "print(y,type(y))\n",
    "\n",
    "sum_xy = (x + y)\n",
    "print(sum_xy,type(sum_xy))"
   ]
  },
  {
   "cell_type": "code",
   "execution_count": 20,
   "id": "2b63b35d-c4d2-489a-b959-f9e7ddbdc8ba",
   "metadata": {},
   "outputs": [],
   "source": [
    "#Question_7\n",
    " #Using the type() function, check and print the data type of the following:\n",
    "  #45.0\n",
    "  #\"hello\"\n",
    "  #None\n",
    "  #1\n",
    "  #False"
   ]
  },
  {
   "cell_type": "code",
   "execution_count": 21,
   "id": "f8843810-6ec5-4448-b320-bb34c0528ed6",
   "metadata": {},
   "outputs": [
    {
     "name": "stdout",
     "output_type": "stream",
     "text": [
      "<class 'float'>\n",
      "<class 'str'>\n",
      "<class 'NoneType'>\n",
      "<class 'int'>\n",
      "<class 'bool'>\n"
     ]
    }
   ],
   "source": [
    "print(type(45.0))\n",
    "print(type(\"hello\"))\n",
    "print(type(None))\n",
    "print(type(1))\n",
    "print(type(False))"
   ]
  },
  {
   "cell_type": "code",
   "execution_count": 22,
   "id": "f91cc03b-329f-402c-9cf9-de4cbe3bb4d0",
   "metadata": {},
   "outputs": [],
   "source": [
    "#Question_8\n",
    " #Write a Python program to print three strings \"apple\" , \"banana\" , and \"cherry\" \n",
    " #on the same line, separated by a space. Then modify the program to separate the strings using a comma , instead of a space."
   ]
  },
  {
   "cell_type": "code",
   "execution_count": 31,
   "id": "6cbdc654-8b9b-4355-8644-cc672a78d6f1",
   "metadata": {},
   "outputs": [
    {
     "name": "stdout",
     "output_type": "stream",
     "text": [
      "apple banana cherry \n",
      "apple,banana,cherry\n"
     ]
    }
   ],
   "source": [
    "A = \"apple\"\n",
    "B = \"banana\"\n",
    "C = \"cherry\"\n",
    "\n",
    "print(A,B,C,end = \" \")\n",
    "print(end = \"\\n\")\n",
    "print(A,B,C, sep = \",\")"
   ]
  },
  {
   "cell_type": "code",
   "execution_count": 32,
   "id": "a24bc07b-28ed-4e32-abb8-adb2b421643c",
   "metadata": {},
   "outputs": [],
   "source": [
    "#Question_9\n",
    " #Create a variable big_number and assign it a very large integer value (e.g., 987654321987654321 ). Print the value and its type.\n",
    " #What do you notice about the size of the number?"
   ]
  },
  {
   "cell_type": "code",
   "execution_count": 34,
   "id": "401244c7-eca6-4913-9b6a-2eed0ee52cd5",
   "metadata": {},
   "outputs": [
    {
     "name": "stdout",
     "output_type": "stream",
     "text": [
      "987654321987654321 <class 'int'>\n"
     ]
    }
   ],
   "source": [
    "big_number = 987654321987654321\n",
    "print(big_number,type(big_number))"
   ]
  },
  {
   "cell_type": "code",
   "execution_count": 35,
   "id": "e0c1fcd6-86dd-45c9-9de7-cc0270e0168d",
   "metadata": {},
   "outputs": [],
   "source": [
    "#Question_10\n",
    " #Write a Python program that prints the result of multiplying two floats (e.g., 2.5 and 3.7 ).\n",
    " #Then check and print the data type of the result."
   ]
  },
  {
   "cell_type": "code",
   "execution_count": 37,
   "id": "f2865eb6-96df-4aa8-8cd9-0069be8c430c",
   "metadata": {},
   "outputs": [
    {
     "name": "stdout",
     "output_type": "stream",
     "text": [
      "9.25 <class 'float'>\n"
     ]
    }
   ],
   "source": [
    " a = (2.5*3.7)\n",
    "print(a,type(a))"
   ]
  },
  {
   "cell_type": "code",
   "execution_count": null,
   "id": "a3f40a1d-224a-4f03-9632-f0d60171ae45",
   "metadata": {},
   "outputs": [],
   "source": []
  }
 ],
 "metadata": {
  "kernelspec": {
   "display_name": "Python [conda env:base] *",
   "language": "python",
   "name": "conda-base-py"
  },
  "language_info": {
   "codemirror_mode": {
    "name": "ipython",
    "version": 3
   },
   "file_extension": ".py",
   "mimetype": "text/x-python",
   "name": "python",
   "nbconvert_exporter": "python",
   "pygments_lexer": "ipython3",
   "version": "3.12.7"
  }
 },
 "nbformat": 4,
 "nbformat_minor": 5
}
