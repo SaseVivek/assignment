{
 "cells": [
  {
   "cell_type": "code",
   "execution_count": 1,
   "id": "3119a364-e008-4713-b451-a13885293da5",
   "metadata": {},
   "outputs": [],
   "source": [
    "#Question_1\n",
    " #Create a variable x with the value 15.\n",
    " #Perform floored division by 4 and print the result. \n",
    " #What is the difference between floored division and normal division?"
   ]
  },
  {
   "cell_type": "code",
   "execution_count": 4,
   "id": "3afeabbb-a1dc-4df9-b125-acaa1b464c11",
   "metadata": {},
   "outputs": [
    {
     "name": "stdout",
     "output_type": "stream",
     "text": [
      "3\n"
     ]
    }
   ],
   "source": [
    "x = 15\n",
    "y = 4\n",
    "\n",
    "result = x // y\n",
    "print(result)"
   ]
  },
  {
   "cell_type": "code",
   "execution_count": 5,
   "id": "6359c89b-fcb2-4e77-ace0-afc925b96737",
   "metadata": {},
   "outputs": [],
   "source": [
    "#Question_2\n",
    " #Write a program to calculate 8 ** 2 and  16 ** 0.5 . Print both results and  describe what each represents."
   ]
  },
  {
   "cell_type": "code",
   "execution_count": 6,
   "id": "c084f3e9-24b0-4c43-a9fe-fa1a3c90bc8c",
   "metadata": {},
   "outputs": [
    {
     "name": "stdout",
     "output_type": "stream",
     "text": [
      "64\n",
      "4.0\n"
     ]
    }
   ],
   "source": [
    "a = 8 ** 2\n",
    "b = 16 ** 0.5\n",
    "print(a)\n",
    "print(b)"
   ]
  },
  {
   "cell_type": "code",
   "execution_count": 7,
   "id": "1cac9347-861c-4740-a02a-456a04ed91ab",
   "metadata": {},
   "outputs": [],
   "source": [
    "#Question_3\n",
    " #Use arithmetic operators to solve the following expression: 20 - 5 * 3 + 8 / 4 . \n",
    " #Use parentheses to make sure the addition happens before multiplication. Print the output."
   ]
  },
  {
   "cell_type": "code",
   "execution_count": 10,
   "id": "6df2d4c4-b6a8-447b-8fe7-bf9d71cbff1d",
   "metadata": {},
   "outputs": [
    {
     "name": "stdout",
     "output_type": "stream",
     "text": [
      "6.25\n"
     ]
    }
   ],
   "source": [
    "result = 20 - (5 * (3 + 8) / 4)\n",
    "print(result)"
   ]
  },
  {
   "cell_type": "code",
   "execution_count": 11,
   "id": "492ca0bf-1924-4e97-82e8-252211fa5fbc",
   "metadata": {},
   "outputs": [],
   "source": [
    "#Question_4\n",
    " #Assign the value 7 to a variable num . Convert it to a float and print the result.\n",
    " #What is the difference between  7 and 7.0"
   ]
  },
  {
   "cell_type": "code",
   "execution_count": 14,
   "id": "775ca5d6-d2a3-49fe-9046-b45e3f78d419",
   "metadata": {},
   "outputs": [
    {
     "name": "stdout",
     "output_type": "stream",
     "text": [
      "7\n",
      "7.0\n"
     ]
    }
   ],
   "source": [
    "num = 7\n",
    "print(num)\n",
    "print(float(num))\n",
    "\n",
    "#Difference\n",
    "# 7 is am integer and 7.0 is float"
   ]
  },
  {
   "cell_type": "code",
   "execution_count": 15,
   "id": "c2bb0a6f-541a-40d2-ac22-7897da0ef505",
   "metadata": {},
   "outputs": [],
   "source": [
    "#Question_5\n",
    " #Use a comparison operator to check if 100 is greater than 50.\n",
    " #Print the result and indicate what type of value this is."
   ]
  },
  {
   "cell_type": "code",
   "execution_count": 16,
   "id": "34af9f1b-7d9e-4a91-afbf-7d550dfb6365",
   "metadata": {},
   "outputs": [
    {
     "name": "stdout",
     "output_type": "stream",
     "text": [
      "True\n",
      "<class 'bool'>\n"
     ]
    }
   ],
   "source": [
    "A = 100\n",
    "B = 50\n",
    "result = A>B\n",
    "print(result)\n",
    "print(type(result))\n"
   ]
  },
  {
   "cell_type": "code",
   "execution_count": 17,
   "id": "b87da9e1-c2a6-471f-8297-f25248d18b50",
   "metadata": {},
   "outputs": [],
   "source": [
    "#Question_6\n",
    " #Assign True to a variable is_sunny and False to is_weekend . \n",
    " #Use logical operators to check if it is sunny and the weekend ( is_sunny and is_weekend ). \n",
    " #Print the result"
   ]
  },
  {
   "cell_type": "code",
   "execution_count": 18,
   "id": "d8d34d58-67d7-495d-9a28-0a4daa705ef2",
   "metadata": {},
   "outputs": [
    {
     "name": "stdout",
     "output_type": "stream",
     "text": [
      "False\n"
     ]
    }
   ],
   "source": [
    "is_sunny = True\n",
    "is_weekend = False \n",
    "\n",
    "result = is_sunny and is_weekend\n",
    "\n",
    "print(result)"
   ]
  },
  {
   "cell_type": "code",
   "execution_count": 19,
   "id": "ccadf360-68d4-4501-b207-2d6f64918c2e",
   "metadata": {},
   "outputs": [],
   "source": [
    "#Question_7\n",
    " #Create a variable password and set it to \"my_password123\" . \n",
    " #Ask the user to input a password and print True if the input matches the value of password , otherwise print False ."
   ]
  },
  {
   "cell_type": "code",
   "execution_count": 20,
   "id": "887eaf2b-4174-46d4-be03-08f8746f5151",
   "metadata": {},
   "outputs": [
    {
     "name": "stdin",
     "output_type": "stream",
     "text": [
      "ENTER YOUR PASSWORD 12\n"
     ]
    },
    {
     "name": "stdout",
     "output_type": "stream",
     "text": [
      "False\n"
     ]
    }
   ],
   "source": [
    "    password = \"my_password123\"\n",
    "    \n",
    "    P = input(\"ENTER YOUR PASSWORD\")\n",
    "    \n",
    "    if P == password:\n",
    "        print(True)\n",
    "    else:    \n",
    "        print(False)"
   ]
  },
  {
   "cell_type": "code",
   "execution_count": 1,
   "id": "dfb136bc-4da7-4871-93c4-58ef26bf9e26",
   "metadata": {},
   "outputs": [],
   "source": [
    "#Question_8\n",
    "#Assign the value using the 50 to a variable marks .\n",
    "#Increment the value of marks by 5 using the += operator, then print the new value."
   ]
  },
  {
   "cell_type": "code",
   "execution_count": 2,
   "id": "fa020939-63f6-4823-a235-52553b21e65f",
   "metadata": {},
   "outputs": [
    {
     "name": "stdout",
     "output_type": "stream",
     "text": [
      "55\n"
     ]
    }
   ],
   "source": [
    "marks = 50\n",
    "\n",
    "marks += 5\n",
    "\n",
    "print(marks)"
   ]
  },
  {
   "cell_type": "code",
   "execution_count": 3,
   "id": "e76d40d8-9c16-4881-bcef-e43415d5e4de",
   "metadata": {},
   "outputs": [],
   "source": [
    "#Question_9\n",
    " #Write a program to check if the value of a = 0 and b = 10 satisfies a or b .\n",
    " #Print the output and explain why it gives that result."
   ]
  },
  {
   "cell_type": "code",
   "execution_count": 7,
   "id": "01f67f2f-0a8f-49b9-89b0-78b0c1d3b8be",
   "metadata": {},
   "outputs": [
    {
     "name": "stdout",
     "output_type": "stream",
     "text": [
      "Atleast one of the given values are true  0 or 10\n"
     ]
    }
   ],
   "source": [
    "a = 0 \n",
    "b = 10\n",
    "\n",
    "if a or b:\n",
    "    print(\"Atleast one of the given values are true \",a ,\"or\", b)\n",
    "else:\n",
    "    print(\"Neither a nor b is true\")\n",
    "\n"
   ]
  },
  {
   "cell_type": "code",
   "execution_count": 8,
   "id": "edeabd0c-c664-4fe3-b390-ee74d79fc4b4",
   "metadata": {},
   "outputs": [],
   "source": [
    "#Question_10\n",
    " #Use not to negate the value of  False and print the result. \n",
    " #Explain what the not operator does in Python."
   ]
  },
  {
   "cell_type": "code",
   "execution_count": 9,
   "id": "1e87d162-ca7f-4ebc-911d-e3f26ed644a6",
   "metadata": {},
   "outputs": [
    {
     "name": "stdout",
     "output_type": "stream",
     "text": [
      "True\n"
     ]
    }
   ],
   "source": [
    "result = not False\n",
    "\n",
    "print(result)"
   ]
  },
  {
   "cell_type": "code",
   "execution_count": null,
   "id": "b5f4b819-2832-4382-872d-2d00c2299556",
   "metadata": {},
   "outputs": [],
   "source": []
  }
 ],
 "metadata": {
  "kernelspec": {
   "display_name": "Python [conda env:base] *",
   "language": "python",
   "name": "conda-base-py"
  },
  "language_info": {
   "codemirror_mode": {
    "name": "ipython",
    "version": 3
   },
   "file_extension": ".py",
   "mimetype": "text/x-python",
   "name": "python",
   "nbconvert_exporter": "python",
   "pygments_lexer": "ipython3",
   "version": "3.12.7"
  }
 },
 "nbformat": 4,
 "nbformat_minor": 5
}
